{
 "cells": [
  {
   "cell_type": "code",
   "execution_count": 2,
   "id": "99227d63",
   "metadata": {},
   "outputs": [
    {
     "data": {
      "text/plain": [
       "'1.20.3'"
      ]
     },
     "execution_count": 2,
     "metadata": {},
     "output_type": "execute_result"
    }
   ],
   "source": [
    "import numpy as np\n",
    "np.__version__"
   ]
  },
  {
   "cell_type": "markdown",
   "id": "75e29b9d",
   "metadata": {},
   "source": [
    "# Creating Arrays from Python lists"
   ]
  },
  {
   "cell_type": "code",
   "execution_count": 3,
   "id": "5afe3574",
   "metadata": {},
   "outputs": [
    {
     "data": {
      "text/plain": [
       "array([1, 2, 3])"
      ]
     },
     "execution_count": 3,
     "metadata": {},
     "output_type": "execute_result"
    }
   ],
   "source": [
    "np.array([1,2,3])\n",
    "\n"
   ]
  },
  {
   "cell_type": "code",
   "execution_count": 4,
   "id": "7fc7907f",
   "metadata": {},
   "outputs": [
    {
     "name": "stdout",
     "output_type": "stream",
     "text": [
      "[1.  2.5 3.  4.2]\n",
      "[1. 2. 3.]\n",
      "[[0 1 2 3 4]\n",
      " [5 6 7 8 9]]\n"
     ]
    }
   ],
   "source": [
    "#NumPy arrays are of fixed type, if you present different data types , NumPy will try to upcast where possible\n",
    "print(np.array([1,2.5,3,4.2])) #in the output, all the integers will be upcasted to floats\n",
    "#Specifying the data type\n",
    "L=[1,2,3]\n",
    "print(np.array(L,dtype='float32')) #The elements in L will now be presented as floats\n",
    "\n",
    "#NumPy arrays can be explicitly multi-dimensional\n",
    "print(np.array([range(i,i+5) for i in [0,5]])) # will output a 2x5 array containing digits 0-4 in first row, 5-9 2nd row\n",
    "\n"
   ]
  },
  {
   "cell_type": "markdown",
   "id": "58335fc0",
   "metadata": {},
   "source": [
    "# Creating Arrays from Scratch"
   ]
  },
  {
   "cell_type": "code",
   "execution_count": 5,
   "id": "788e87c0",
   "metadata": {},
   "outputs": [
    {
     "name": "stdout",
     "output_type": "stream",
     "text": [
      "[[False False]\n",
      " [False False]]\n",
      "[1 1 1 1 1]\n",
      "[[1729.+0.j 1729.+0.j 1729.+0.j]\n",
      " [1729.+0.j 1729.+0.j 1729.+0.j]]\n",
      "[[1. 0. 0.]\n",
      " [0. 1. 0.]\n",
      " [0. 0. 1.]]\n",
      "[ 2  4  6  8 10]\n",
      "[3. 5. 7.]\n",
      "[[0.73992294 0.97148944]\n",
      " [0.08043562 0.90869157]]\n",
      "[[ 0.98999929]\n",
      " [-0.71292256]]\n",
      "[2 4 3 2 2 2]\n",
      "[ 0.98999929 -0.71292256]\n"
     ]
    }
   ],
   "source": [
    "#NumPy has several methods of creating certain types of arrays from scratch\n",
    "print(np.zeros((2,2), dtype='bool_'))#The 1st argument is the order of the array, the 2nd is the data type of the zero \n",
    "print(np.ones(5,dtype='int'))#similar to above but specialised on just 1's, first argument is same as a 1x5 order matrix\n",
    "print(np.full((2,3),1729,dtype='complex_'))#The 2X3 array will just be full of the specified no.\n",
    "print(np.eye(3, dtype='float32'))#prints an identity matrix of the specified order(just use one no. to represent the order)\n",
    "print(np.arange(2,11,2))#prints a 1d array based on the specified range\n",
    "print(np.linspace(3,7,3))#if x,y,z it prints z numbers equally spaced between x and y\n",
    "print(np.random.random((2,2)))#prints random no.s uniformly dist. between 0 and 1 in the specified matrix order\n",
    "print(np.random.normal(0,1,(2,1)))#random no.s in a normal dist. x,y,z: x is mean, y is std.dev, z is matrix order\n",
    "print(np.random.randint(2,7,6))# for x,y,z, prints random integers in the interval [x,y) with matrix order z, default x is 0\n",
    "print(np.empty((2)))#the values within it are unitialized, user should initialize them manually"
   ]
  },
  {
   "cell_type": "markdown",
   "id": "3f59ca4f",
   "metadata": {},
   "source": [
    "bool_\tBoolean (True or False) stored as a byte\n",
    "int_\tDefault integer type (same as C long; normally either int64 or int32)\n",
    "intc\tIdentical to C int (normally int32 or int64)\n",
    "intp\tInteger used for indexing (same as C ssize_t; normally either int32 or int64)\n",
    "int8\tByte (-128 to 127)\n",
    "int16\tInteger (-32768 to 32767)\n",
    "int32\tInteger (-2147483648 to 2147483647)\n",
    "int64\tInteger (-9223372036854775808 to 9223372036854775807)\n",
    "uint8\tUnsigned integer (0 to 255)\n",
    "uint16\tUnsigned integer (0 to 65535)\n",
    "uint32\tUnsigned integer (0 to 4294967295)\n",
    "uint64\tUnsigned integer (0 to 18446744073709551615)\n",
    "float_\tShorthand for float64.\n",
    "float16\tHalf precision float: sign bit, 5 bits exponent, 10 bits mantissa\n",
    "float32\tSingle precision float: sign bit, 8 bits exponent, 23 bits mantissa\n",
    "float64\tDouble precision float: sign bit, 11 bits exponent, 52 bits mantissa\n",
    "complex_\tShorthand for complex128.\n",
    "complex64\tComplex number, represented by two 32-bit floats\n",
    "complex128\tComplex number, represented by two 64-bit floats"
   ]
  },
  {
   "cell_type": "code",
   "execution_count": 38,
   "id": "944d8781",
   "metadata": {},
   "outputs": [
    {
     "name": "stdout",
     "output_type": "stream",
     "text": [
      "❤\n"
     ]
    }
   ],
   "source": [
    "print('\\u2764')"
   ]
  },
  {
   "cell_type": "markdown",
   "id": "f467042c",
   "metadata": {},
   "source": [
    "# Array Manipulation"
   ]
  },
  {
   "cell_type": "code",
   "execution_count": 6,
   "id": "051587e2",
   "metadata": {},
   "outputs": [
    {
     "name": "stdout",
     "output_type": "stream",
     "text": [
      "x3 ndim: 3\n",
      "x3 shape: (3, 4, 5)\n",
      "x3 size: 60\n",
      "x3 data type: int32\n",
      "x3 itemsize: 4 bytes.\n",
      "x3 total size: 240 bytes.\n"
     ]
    }
   ],
   "source": [
    "#NumPy Array attributes\n",
    "np.random.seed(0) #seed allows for repeatability/reproducability when generating random numbers\n",
    "\n",
    "x1=np.random.randint(10,size=6) #1d array\n",
    "x2=np.random.randint(10, size=(3,4)) #2d array\n",
    "x3=np.random.randint(10,size=(3,4,5)) #3d array\n",
    "\n",
    "print('x3 ndim:',x3.ndim)#ndim gives the number of dimensions\n",
    "print('x3 shape:',x3.shape)#shape gives the size of each dimension\n",
    "print('x3 size:',x3.size)#size gives the total no. of elements in the array\n",
    "print('x3 data type:',x3.dtype)#dtype gives the data type of the elements in the array\n",
    "print('x3 itemsize:',x3.itemsize,'bytes.')#itemsize gives the size in bytes of an element in the array\n",
    "print('x3 total size:',x3.nbytes,'bytes.')#nbytes gives the total number of bytes of the entire array\n",
    "#nbytes=itemsize * size"
   ]
  },
  {
   "cell_type": "code",
   "execution_count": 7,
   "id": "9d74e6ae",
   "metadata": {},
   "outputs": [
    {
     "name": "stdout",
     "output_type": "stream",
     "text": [
      "[5 0 3 3 7 9]\n",
      "5\n",
      "9\n",
      "[[3 5 2 4]\n",
      " [7 6 8 8]\n",
      " [1 6 7 7]]\n",
      "5\n",
      "6\n",
      "[[[8 1 5 9 8]\n",
      "  [9 4 3 0 3]\n",
      "  [5 0 2 3 8]\n",
      "  [1 3 3 3 7]]\n",
      "\n",
      " [[0 1 9 9 0]\n",
      "  [4 7 3 2 7]\n",
      "  [2 0 0 4 5]\n",
      "  [5 6 8 4 1]]\n",
      "\n",
      " [[4 9 8 1 1]\n",
      "  [7 9 9 3 6]\n",
      "  [7 2 0 3 5]\n",
      "  [9 4 4 6 4]]]\n",
      "4\n",
      "[[ 3  5  2  4]\n",
      " [ 7 20  8  8]\n",
      " [ 1  6  7  7]]\n",
      "[3 0 3 3 7 9]\n"
     ]
    }
   ],
   "source": [
    "#Array indexing\n",
    "#Indexing for a 1d array is the same as used in normal Python lists\n",
    "print(x1)\n",
    "print(x1[0])\n",
    "print(x1[-1])\n",
    "\n",
    "#Indexing in multi-dimensional arrays\n",
    "print(x2)\n",
    "print(x2[0,1])# for [x,y] x represents the xth row and y represents the yth column\n",
    "print(x2[-2,-3])\n",
    "print(x3)\n",
    "print(x3[1,2,3])# for [x,y,z] print element at row y column z in matrix x\n",
    "\n",
    "#setting values\n",
    "x2[1,1]=20\n",
    "print(x2)\n",
    "\n",
    "x1[0]=3.14159\n",
    "print(x1)#The value set will be truncated to 3 since np arrays are of fixed type and x1 was declared as an int array"
   ]
  },
  {
   "cell_type": "code",
   "execution_count": 8,
   "id": "d0b07d83",
   "metadata": {},
   "outputs": [
    {
     "name": "stdout",
     "output_type": "stream",
     "text": [
      "[0 1 2 3 4 5 6 7 8 9]\n",
      "[5 3 1]\n",
      "[[ 3  5  2  4]\n",
      " [ 7 20  8  8]\n",
      " [ 1  6  7  7]]\n",
      "[[ 3  5  2]\n",
      " [ 7 20  8]]\n",
      "[[3 2]\n",
      " [7 8]\n",
      " [1 7]]\n",
      "[[ 7  7  6  1]\n",
      " [ 8  8 20  7]\n",
      " [ 4  2  5  3]]\n",
      "[3 7 1]\n",
      "[3 5 2 4]\n"
     ]
    }
   ],
   "source": [
    "#Slicing\n",
    "#1d arrays are sliced in the same way that lists are sliced\n",
    "x=np.arange(10)\n",
    "print(x)\n",
    "print(x[5::-2])\n",
    "\n",
    "#Slicing in multi-dimensional arrays\n",
    "print(x2)\n",
    "print(x2[:2, :3])#The x2 array is sliced to only contain row 0 and 1, while the columns are reduced to 0,1, and 2\n",
    "print(x2[:3,::2])#The no of rows will remain unchanged, but every second column will be skipped\n",
    "print(x2[::-1,::-1])#The order of the rows will be reversed as well as the order of the columns\n",
    "print(x2[:,0])#Prints the first column of x2\n",
    "print(x2[0])#Similar to x2[0,:]will print the first row of x2\n",
    "\n"
   ]
  },
  {
   "cell_type": "code",
   "execution_count": 9,
   "id": "1e7b3e2a",
   "metadata": {},
   "outputs": [
    {
     "name": "stdout",
     "output_type": "stream",
     "text": [
      "[2, 3, 4]\n",
      "[0, 3, 4]\n",
      "[1, 2, 3, 4]\n",
      "[[ 3  5  2  4]\n",
      " [ 7 20  8  8]\n",
      " [ 1  6  7  7]]\n",
      "[[ 3  5]\n",
      " [ 7 20]]\n",
      "[[19  5]\n",
      " [ 7 20]]\n",
      "[[19  5  2  4]\n",
      " [ 7 20  8  8]\n",
      " [ 1  6  7  7]]\n",
      "[[19  5]\n",
      " [ 7 20]]\n",
      "[[13  5]\n",
      " [ 7 20]]\n",
      "[[19  5  2  4]\n",
      " [ 7 20  8  8]\n",
      " [ 1  6  7  7]]\n"
     ]
    }
   ],
   "source": [
    "#when a slice of an np array is created, it is not an independent copy of the array like normal python lists are\n",
    "#i.e. modifying the sliced array will also modify the original array\n",
    "L=[1,2,3,4]\n",
    "L1=L[1:]\n",
    "print(L1)\n",
    "L1[0]=0\n",
    "print(L1)\n",
    "print(L)\n",
    "#compare the lists above with...\n",
    "print(x2)\n",
    "x2_sub=x2[:2,:2]\n",
    "print(x2_sub)\n",
    "x2_sub[0,0]=19\n",
    "print(x2_sub)\n",
    "print(x2)\n",
    "#In the np array, modifying x2_sub also modifies x2 unlike the lists where modifying L1 has no effect on L\n",
    "#To create an explicit copy we need to use the copy method\n",
    "x2_sub_copy=x2[:2,:2].copy()\n",
    "print(x2_sub_copy)\n",
    "x2_sub_copy[0,0]=13\n",
    "print(x2_sub_copy)\n",
    "print(x2)#Now modifying the sub_copy does not modify the original array"
   ]
  },
  {
   "cell_type": "code",
   "execution_count": 10,
   "id": "c035eedf",
   "metadata": {},
   "outputs": [
    {
     "name": "stdout",
     "output_type": "stream",
     "text": [
      "[1 2 3 4]\n",
      "[[1 2]\n",
      " [3 4]]\n",
      "[[ 2  4  6  8 10]]\n",
      "[[ 2  4  6  8 10]]\n",
      "[[ 2]\n",
      " [ 4]\n",
      " [ 6]\n",
      " [ 8]\n",
      " [10]]\n",
      "[[ 2]\n",
      " [ 4]\n",
      " [ 6]\n",
      " [ 8]\n",
      " [10]]\n"
     ]
    }
   ],
   "source": [
    "#Reshaping arrays\n",
    "print(np.arange(1,5))\n",
    "print(np.arange(1,5).reshape(2,2))#the elements are reshaped into a 2x2 array\n",
    "#reshape only works if the size of the initial array matches the size of the reshaped array\n",
    "\n",
    "#Conversion of a 1d array into a 2d row or column matrix using either reshape or newaxis\n",
    "y=np.arange(2,11,2)\n",
    "print(y.reshape(1,5))#same contents as y but now held in a 2d array of a 1x5 row vector\n",
    "print(y[np.newaxis,:])#same effect as the reshape code above\n",
    "print(y.reshape(5,1))#same contents as y but held in a 2d array of a 5x1 column vector\n",
    "print(y[:,np.newaxis])"
   ]
  },
  {
   "cell_type": "code",
   "execution_count": 102,
   "id": "79fe5319",
   "metadata": {},
   "outputs": [
    {
     "name": "stdout",
     "output_type": "stream",
     "text": [
      "[1 2 3 0 0 0 9 9]\n",
      "[[0 1 2]\n",
      " [3 4 5]\n",
      " [0 1 2]\n",
      " [3 4 5]]\n",
      "[[0 1 2 0 1 2]\n",
      " [3 4 5 3 4 5]]\n",
      "[[1 2 3]\n",
      " [0 1 2]\n",
      " [3 4 5]]\n",
      "[[0 1 2 9]\n",
      " [3 4 5 9]]\n",
      "[[[1 2]\n",
      "  [3 4]]\n",
      "\n",
      " [[5 6]\n",
      "  [7 8]]]\n",
      "[[[ 1  2 35 40]\n",
      "  [ 3  4 91 92]]\n",
      "\n",
      " [[ 5  6 11 12]\n",
      "  [ 7  8 13 14]]]\n"
     ]
    }
   ],
   "source": [
    "#Array concatenation and splitting\n",
    "#Concatenation\n",
    "a=np.array([1,2,3])\n",
    "b=np.array([0,0,0])\n",
    "c=np.array([9,9])\n",
    "print(np.concatenate([a,b,c]))\n",
    "\n",
    "#concatenating 2d arrays\n",
    "grid=np.array([[0,1,2],\n",
    "                [3,4,5]])\n",
    "print(np.concatenate([grid,grid]))\n",
    "print(np.concatenate([grid,grid],axis=1))#will concatenate horizontally\n",
    "#axis=0; vertically as in columns\n",
    "#axis=1; horizontally as in rows\n",
    "\n",
    "#concatenating arrays with different dimensions using vstack and hstack\n",
    "print(np.vstack([a,grid]))#array a is stacked on top of the grid array\n",
    "d=np.array([[9],[9]])#for h stack to work the number of dimensions must be equal\n",
    "print(np.hstack([grid,d]))#array d is attached to the end of the grid array\n",
    "\n",
    "#np.dstack stacks arrays along the third axis\n",
    "rand=np.arange(1,9).reshape(2,2,2)\n",
    "print(rand)\n",
    "k=np.array([[[35,40],[91,92]],[[11,12],[13,14]]])\n",
    "print(np.dstack([rand,k]))\n",
    "\n",
    "#Vstack increases the outermost dimension\n",
    "#Hstack increases the second outermost dimension\n",
    "#Dstack increases the third outermost dimension"
   ]
  },
  {
   "cell_type": "code",
   "execution_count": 13,
   "id": "0436c481",
   "metadata": {},
   "outputs": [
    {
     "name": "stdout",
     "output_type": "stream",
     "text": [
      "[1 2 3] [4 5 6] [7]\n",
      "[[ 0  1  2  3]\n",
      " [ 4  5  6  7]\n",
      " [ 8  9 10 11]\n",
      " [12 13 14 15]]\n",
      "[[0 1 2 3]\n",
      " [4 5 6 7]] [[ 8  9 10 11]] [[12 13 14 15]]\n",
      "[[ 0  1]\n",
      " [ 4  5]\n",
      " [ 8  9]\n",
      " [12 13]]\n",
      "[[ 2  3]\n",
      " [ 6  7]\n",
      " [10 11]\n",
      " [14 15]]\n",
      "[[[ 1.          3.28571429]\n",
      "  [ 5.57142857  7.85714286]]\n",
      "\n",
      " [[10.14285714 12.42857143]\n",
      "  [14.71428571 17.        ]]]\n",
      "[[[1.         3.28571429]\n",
      "  [5.57142857 7.85714286]]]\n",
      "[[[10.14285714 12.42857143]\n",
      "  [14.71428571 17.        ]]]\n",
      "[[[ 1.          3.28571429]]\n",
      "\n",
      " [[10.14285714 12.42857143]]]\n",
      "[[[ 5.57142857  7.85714286]]\n",
      "\n",
      " [[14.71428571 17.        ]]]\n",
      "[[[ 1.        ]\n",
      "  [ 5.57142857]]\n",
      "\n",
      " [[10.14285714]\n",
      "  [14.71428571]]]\n",
      "[[[ 3.28571429]\n",
      "  [ 7.85714286]]\n",
      "\n",
      " [[12.42857143]\n",
      "  [17.        ]]]\n"
     ]
    }
   ],
   "source": [
    "#Splitting arrays\n",
    "z=[1,2,3,4,5,6,7]\n",
    "z1,z2,z3=np.split(z,[3,6])#each array will end at index  x-1 where x is the specified number in the box\n",
    "print(z1,z2,z3)\n",
    "grid=np.arange(16).reshape(4,4)\n",
    "print(grid)\n",
    "p,q,r=np.vsplit(grid,[2,3])\n",
    "print(p,q,r)\n",
    "left,right=np.hsplit(grid,[2])\n",
    "print(left)\n",
    "print(right)\n",
    "matrix=np.linspace(1,17,8).reshape(2,2,2)\n",
    "print(matrix)\n",
    "a,b=np.vsplit(matrix,[1])\n",
    "print(a)\n",
    "print(b)\n",
    "c,d=np.hsplit(matrix,[1])\n",
    "print(c)\n",
    "print(d)\n",
    "e,f=np.dsplit(matrix,[1])\n",
    "print(e)\n",
    "print(f)"
   ]
  },
  {
   "cell_type": "markdown",
   "id": "b1814bbe",
   "metadata": {},
   "source": [
    "# Vectorized operations and Ufuncs"
   ]
  },
  {
   "cell_type": "code",
   "execution_count": null,
   "id": "869d8d8e",
   "metadata": {},
   "outputs": [],
   "source": [
    "#Vectorized operations allow for a computation to be performed on each element of a numpy array without using standard loops\n",
    "#like in CPython. This is implemented using ufuncs"
   ]
  },
  {
   "cell_type": "code",
   "execution_count": 14,
   "id": "cdafcb63",
   "metadata": {},
   "outputs": [
    {
     "name": "stdout",
     "output_type": "stream",
     "text": [
      "[array([0.16666667, 0.11111111, 0.16666667, 1.        , 1.        ,\n",
      "       0.5       ])]\n",
      "[[0.16666667 0.11111111 0.16666667 1.         1.         0.5       ]]\n",
      "[[0.5   1.375 2.25  3.125 4.   ]]\n",
      "[[  1   2   4]\n",
      " [  8  16  32]\n",
      " [ 64 128 256]]\n",
      "[-2 -8 -8 -1 -5]\n",
      "[[-0.52817175 -1.07296862]\n",
      " [ 0.86540763 -2.3015387 ]]\n",
      "[[0.52817175 1.07296862]\n",
      " [0.86540763 2.3015387 ]]\n",
      "[ 5.         61.          1.41421356 13.        ]\n",
      "0.8660254037844386\n",
      "0.7071067811865476\n",
      "1.633123935319537e+16\n",
      "arcsin(k): [-1.57079633  0.          1.57079633]\n",
      "arccos(k): [3.14159265 1.57079633 0.        ]\n",
      "arctan(k): [-0.78539816  0.          0.78539816]\n",
      "[ 2.71828183  7.3890561  20.08553692  1.        ]\n",
      "[2. 4. 8. 1.]\n",
      "[  5  25 125   1]\n",
      "Natural logarithm: [0.         0.69314718 2.30258509 1.38629436 1.79175947 1.00000036\n",
      " 6.90775528]\n",
      "Log to base 2: [0.         1.         3.32192809 2.         2.5849625  1.44269556\n",
      " 9.96578428]\n",
      "Log to base 10: [0.         0.30103    1.         0.60205999 0.77815125 0.43429464\n",
      " 3.        ]\n",
      "exp(precise)-1 [1.00050017e-03 1.00000500e-05 9.34043619e-05]\n",
      "log of 1+precise [9.99500333e-04 9.99995000e-06 9.33956385e-05]\n"
     ]
    }
   ],
   "source": [
    "\n",
    "np.random.seed(1)\n",
    "#Standard CPython computation through loops\n",
    "def compute_reciprocals(values):\n",
    "    output=[]\n",
    "    for i in range(len(values)):\n",
    "        output.append(1.0/values[i])\n",
    "    return output\n",
    "\n",
    "values=np.random.randint(1,10,(1,6))\n",
    "print(compute_reciprocals(values))\n",
    "#Vectorization in Numpy arrays\n",
    "print(1.0/values) #This will achieve the same thing as the function above but it will do so much faster\n",
    "#As the size of the arrays grow, the difference in efficiency will be highly significant\n",
    "\n",
    "#More examples of vectorization\n",
    "print(np.linspace(1,8,5)/np.full((1,5),2)) #vectorization also works between arrays and other arrays, not just scalars\n",
    "indices=np.arange(9).reshape(3,3)\n",
    "print(2**indices)#no need to use a loop to compute the 2 power each element at a time\n",
    "\n",
    "#numpy uses the arithmetic operators as wrapper functions for functions like np.add, np,power, np.multiply etc\n",
    "#the result is that arithmetic operations can be computed easily and quickly on numpy arrays much like they would on variables\n",
    "\n",
    "y=np.arange(5)\n",
    "print(-((41*y + (3*y)//4 + y**2 - 7)%9))\n",
    "x=np.random.normal(0,1,(2,2))\n",
    "print(x)\n",
    "print(abs(x))#similar to np.absolute(x) or np.abs(x)\n",
    "#When absolute is used on complex numbers, it returns their magnitude\n",
    "z=np.array([3-4*1j,11+60*1j,1-1j,5-12*1j])\n",
    "print(abs(z))\n",
    "\n",
    "#Trigonometric functions\n",
    "print(np.sin(np.pi/3 ))#works in radians\n",
    "print(np.cos(np.pi/4))\n",
    "print(np.tan(np.pi/2))\n",
    "\n",
    "#Inverses of trigonometric functions\n",
    "k=[-1,0,1]\n",
    "print('arcsin(k):',np.arcsin(k)) #will return answers in radians\n",
    "print('arccos(k):',np.arccos(k))\n",
    "print('arctan(k):',np.arctan(k))\n",
    "\n",
    "#Exponential functions\n",
    "powers=[1,2,3,0]\n",
    "print(np.exp(powers))#prints e^x\n",
    "print(np.exp2(powers))#prints 2^x\n",
    "print(np.power(5,powers))#prints 5^x\n",
    "\n",
    "#Logarithmic functions\n",
    "log=[1,2,10,4,6,2.7182828,1000]\n",
    "print('Natural logarithm:',np.log(log))\n",
    "print('Log to base 2:',np.log2(log))\n",
    "print('Log to base 10:',np.log10(log))\n",
    "\n",
    "precise=[0.001,0.00001,0.0000934]\n",
    "print('exp(precise)-1', np.expm1(precise))#This function is more precise than doing (np.exp(x)-1) for smaller values\n",
    "print('log of 1+precise',np.log1p(precise)) #This function is the inverse of expm1 and is more precise than np.log(x) +1\n",
    "#for smaller values of x and for values such that 1+x==1 in floating point precision\n",
    "\n"
   ]
  },
  {
   "cell_type": "markdown",
   "id": "ea0fa893",
   "metadata": {},
   "source": [
    "# Advanced ufunc features"
   ]
  },
  {
   "cell_type": "code",
   "execution_count": 15,
   "id": "a27cd6aa",
   "metadata": {},
   "outputs": [
    {
     "name": "stdout",
     "output_type": "stream",
     "text": [
      "[ 2.  6. 10. 14. 18.]\n",
      "[5.000000e+00 1.000000e+00 1.250000e+02 1.000000e+00 3.125000e+03\n",
      " 1.000000e+00 7.812500e+04 1.000000e+00 1.953125e+06 1.000000e+00]\n",
      "25\n",
      "[  1   3  15 105 945]\n",
      "[[ 1  2  3  4  5]\n",
      " [ 2  4  6  8 10]\n",
      " [ 3  6  9 12 15]\n",
      " [ 4  8 12 16 20]\n",
      " [ 5 10 15 20 25]]\n",
      "[[21.  23.5 26.  28.5 31. ]\n",
      " [22.  24.5 27.  29.5 32. ]\n",
      " [23.  25.5 28.  30.5 33. ]\n",
      " [24.  26.5 29.  31.5 34. ]\n",
      " [25.  27.5 30.  32.5 35. ]]\n"
     ]
    }
   ],
   "source": [
    "#specializing output\n",
    "p=np.arange(1,10,2)\n",
    "q=np.empty(5)\n",
    "np.multiply(p,2,out=q)#the output of p*2 will be stored in q. This is helpful for large calculations and it applies to \n",
    "#all ufuncs\n",
    "print(q) \n",
    "\n",
    "r=np.ones(10)\n",
    "np.power(5,p,out=r[::2]) \n",
    "print(r)#the output of 5**p will be stored in r at every second index, while the other indices wil remain with 1\n",
    "#This is faster than r[::2]=5**x as this will have to create a new temporary array to store 5**x from which the values...\n",
    "#would be copied to r[::2]\n",
    "\n",
    "print(np.add.reduce(p))#will add every element in p and return the final result,similar to np.sum or np.prod for multiplyreduce\n",
    "#np.reduce also works with mod, multiply, floor_divide,subtract\n",
    "print(np.multiply.accumulate(p))# gets the cumulative result of the ufunc at each step/index\n",
    "#works with mod, add, floor_divide, subtract; similar to np.cumprod or np.cumsum for addaccumulate\n",
    "\n",
    "#np.outer\n",
    "#This returns an array containing the result of the specified operation being done on all possible pairs of the arrays given\n",
    "z=np.arange(1,6)\n",
    "print(np.multiply.outer(z,z))#will be like a multiplication table of up to 5\n",
    "x=np.linspace(20,30,5)\n",
    "print(np.add.outer(z,x))\n"
   ]
  },
  {
   "cell_type": "code",
   "execution_count": 16,
   "id": "fc93fda4",
   "metadata": {},
   "outputs": [
    {
     "name": "stdout",
     "output_type": "stream",
     "text": [
      "[[0.4359949  0.02592623 0.54966248 0.43532239]\n",
      " [0.4203678  0.33033482 0.20464863 0.61927097]\n",
      " [0.29965467 0.26682728 0.62113383 0.52914209]\n",
      " [0.13457995 0.51357812 0.18443987 0.78533515]\n",
      " [0.85397529 0.49423684 0.84656149 0.07964548]]\n",
      "1\n",
      "8.63063827623269\n",
      "0.43153191381163447\n",
      "[0.54966248 0.61927097 0.62113383 0.78533515 0.85397529]\n",
      "0.025926231827891333\n",
      "3.563746379017536e-10\n",
      "0.23719144105380313\n",
      "0.4356586473801403\n",
      "0.6196435396343899\n"
     ]
    }
   ],
   "source": [
    "np.random.seed(2)\n",
    "M=np.random.random((5,4))\n",
    "print(M)\n",
    "print(M.argmin())\n",
    "print(M.sum())\n",
    "print(M.mean()) #mean can take arguments eg 0 or 1 representing the axis over which the mean should be calculated\n",
    "print(M.max(axis=1))\n",
    "print(M.min())\n",
    "print(M.prod())\n",
    "print(M.std())\n",
    "print(np.median(M))\n",
    "print(np.percentile(M,80))"
   ]
  },
  {
   "cell_type": "code",
   "execution_count": null,
   "id": "17f5224d",
   "metadata": {},
   "outputs": [],
   "source": [
    "#Classroom of the elite\n",
    "#Spyfamily\n",
    "#konosuba\n"
   ]
  },
  {
   "cell_type": "code",
   "execution_count": 111,
   "id": "eed9773a",
   "metadata": {},
   "outputs": [
    {
     "name": "stdout",
     "output_type": "stream",
     "text": [
      "10.0\n",
      "5.5\n",
      "[[0 0 0 0 0]]\n",
      "False\n"
     ]
    }
   ],
   "source": [
    "print(np.percentile([1,2,3,4,5,6,7,8,9,10,11],90))\n",
    "print(np.median(np.arange(1,11)))\n",
    "A=np.full((1,5),0)\n",
    "print(A)\n",
    "print(np.any(A,where=0 in A))"
   ]
  },
  {
   "cell_type": "markdown",
   "id": "61d6d21a",
   "metadata": {},
   "source": [
    "# Broadcasting and Boolean Masking"
   ]
  },
  {
   "cell_type": "code",
   "execution_count": 116,
   "id": "e78a4c63",
   "metadata": {},
   "outputs": [
    {
     "name": "stdout",
     "output_type": "stream",
     "text": [
      "[[0.5488135  0.71518937 0.60276338]\n",
      " [0.54488318 0.4236548  0.64589411]\n",
      " [0.43758721 0.891773   0.96366276]\n",
      " [0.38344152 0.79172504 0.52889492]\n",
      " [0.56804456 0.92559664 0.07103606]\n",
      " [0.0871293  0.0202184  0.83261985]\n",
      " [0.77815675 0.87001215 0.97861834]\n",
      " [0.79915856 0.46147936 0.78052918]\n",
      " [0.11827443 0.63992102 0.14335329]\n",
      " [0.94466892 0.52184832 0.41466194]]\n",
      "0.5811203282945502\n",
      "[0.62225542 0.53814403 0.76434099 0.56802049 0.52155909 0.31332251\n",
      " 0.87559575 0.68038903 0.30051624 0.62705973]\n",
      "[[-0.07344191  0.09293395 -0.01949204]\n",
      " [ 0.00673915 -0.11448923  0.10775008]\n",
      " [-0.32675378  0.12743201  0.19932177]\n",
      " [-0.18457897  0.22370455 -0.03912557]\n",
      " [ 0.04648548  0.40403755 -0.45052303]\n",
      " [-0.22619321 -0.29310412  0.51929733]\n",
      " [-0.097439   -0.0055836   0.1030226 ]\n",
      " [ 0.11876953 -0.21890967  0.10014014]\n",
      " [-0.18224182  0.33940478 -0.15716296]\n",
      " [ 0.31760919 -0.1052114  -0.21239779]]\n",
      "[-0.06010453  0.04502148  0.01508305]\n"
     ]
    }
   ],
   "source": [
    "#Rules of broadcasting in Python\n",
    "#Step 1:\n",
    "#If the number of dimensions of the 2 arrays don't match, the one with a fewer number is padded with ones on the left\n",
    "#Step 2: If part of the shapes does not match, substitute any part with 1 to match the bigger number\n",
    "#Step 3: If there remains different in shape or dimension then return an error\n",
    "\n",
    "np.random.seed(0)\n",
    "X=np.random.random((10,3))\n",
    "print(X)\n",
    "print(X.mean())\n",
    "print(X.mean(1))\n",
    "X_centered=X-X.mean(1)[:,np.newaxis]\n",
    "print(X_centered)\n",
    "print(X_centered.mean(0))\n"
   ]
  },
  {
   "cell_type": "code",
   "execution_count": 19,
   "id": "10b42ada",
   "metadata": {},
   "outputs": [
    {
     "data": {
      "image/png": "[encoded data removed]",
      "text/plain": [
       "<Figure size 432x288 with 2 Axes>"
      ]
     },
     "metadata": {
      "needs_background": "light"
     },
     "output_type": "display_data"
    }
   ],
   "source": [
    "x=np.linspace(0,5,50)\n",
    "y=np.linspace(0,5,50)[:,np.newaxis]\n",
    "z=np.sin(x)**10 + np.cos(10+y*x)*np.cos(x)\n",
    "\n",
    "%matplotlib inline\n",
    "import matplotlib.pyplot as plt\n",
    "plt.imshow(z, origin='lower', extent=[0,5, 0, 5],\n",
    "           cmap='viridis')\n",
    "plt.colorbar();"
   ]
  },
  {
   "cell_type": "code",
   "execution_count": 20,
   "id": "1af6a81c",
   "metadata": {},
   "outputs": [
    {
     "data": {
      "text/plain": [
       "(365,)"
      ]
     },
     "execution_count": 20,
     "metadata": {},
     "output_type": "execute_result"
    }
   ],
   "source": [
    "import pandas as pd\n",
    "#Use pandas to extract rainfall info as a numpy array\n",
    "rainfall=pd.read_csv(r'C:\\Users\\user\\Downloads\\kra\\Seattle2014.csv')['PRCP'].values\n",
    "inches=rainfall/254.0 #conversion of a tenth of a millimetre to inches\n",
    "inches.shape"
   ]
  },
  {
   "cell_type": "code",
   "execution_count": 21,
   "id": "f281770e",
   "metadata": {},
   "outputs": [
    {
     "data": {
      "image/png": "[encoded data removed]",
      "text/plain": [
       "<Figure size 432x288 with 1 Axes>"
      ]
     },
     "metadata": {},
     "output_type": "display_data"
    }
   ],
   "source": [
    "%matplotlib inline\n",
    "import matplotlib.pyplot as plt\n",
    "import seaborn; seaborn.set() #set plot styles\n",
    "plt.hist(inches, 40);"
   ]
  },
  {
   "cell_type": "code",
   "execution_count": 31,
   "id": "c7ca90c3",
   "metadata": {},
   "outputs": [
    {
     "name": "stdout",
     "output_type": "stream",
     "text": [
      "[ True  True False False False]\n",
      "[False  True False False False]\n",
      "[[5 0 3 3]\n",
      " [7 9 3 5]\n",
      " [2 4 7 6]]\n",
      "[2 2 2 3]\n",
      "7\n",
      "True\n",
      "False\n"
     ]
    }
   ],
   "source": [
    "#Examples of comparison operators as ufuncs\n",
    "k=np.arange(1,6)\n",
    "print(k<3) #The result is a boolean array evaluating element<3 for element in the array\n",
    "print(2*k==k**2)\n",
    "# '==': np.equal,'!=':np.not_equal,'>':np.greater,'>=':np.greater_equal,'<':np.less,'<=':np.less_equal\n",
    "\n",
    "rng=np.random.RandomState(0)\n",
    "x=rng.randint(10,size=(3,4))\n",
    "print(x)\n",
    "print(np.count_nonzero(x<7,axis=0))#returns the number of elements for which  element<7 is True; np.sum can be used in a similar way\n",
    "#in which case False is interpreted as 0 and True is interpreted as 1\n",
    "\n",
    "print(np.sum(x>3))\n",
    "print(np.any(x==7)) #Logical OR\n",
    "print(np.all(x>=1)) #Logical AND\n",
    "#both np.all and np.any can take axis arguments as well\n",
    "\n",
    "\n",
    "\n",
    "\n",
    "\n"
   ]
  },
  {
   "cell_type": "code",
   "execution_count": 39,
   "id": "6cdb3177",
   "metadata": {},
   "outputs": [
    {
     "name": "stdout",
     "output_type": "stream",
     "text": [
      "29\n",
      "Number of days without rain: 215\n",
      "Number of days with rain: 150\n",
      "Number of days with over 0.5 inches 37\n",
      "Rainy days with under 0.2 inches 75\n"
     ]
    }
   ],
   "source": [
    "#boolean operations on the rainfall data\n",
    "print(np.sum((inches>0.5)&(inches<1)))\n",
    "\n",
    "# &: np.bitwise_and\n",
    "# |: np.bitwise_or\n",
    "# ~ : np.bitwise_not\n",
    "# ^ :np.bitwise_xor\n",
    "#These bitwise operators allow for all manner of logical applications and manipulations\n",
    "\n",
    "#and, or are used with entire objects\n",
    "\n",
    "print(\"Number of days without rain:\",np.sum(inches==0))\n",
    "print(\"Number of days with rain:\",np.sum(inches>0))\n",
    "print(\"Number of days with over 0.5 inches\",np.sum(inches>0.5))\n",
    "print(\"Rainy days with under 0.2 inches\",np.sum((inches!=0)&(inches<0.2)))"
   ]
  },
  {
   "cell_type": "code",
   "execution_count": 42,
   "id": "cb80733b",
   "metadata": {},
   "outputs": [
    {
     "name": "stdout",
     "output_type": "stream",
     "text": [
      "[[5 0 3 3]\n",
      " [7 9 3 5]\n",
      " [2 4 7 6]]\n",
      "[[False  True  True  True]\n",
      " [False False  True False]\n",
      " [ True  True False False]]\n",
      "[0 3 3 3 2 4]\n"
     ]
    }
   ],
   "source": [
    "#Boolean arrays as masks\n",
    "print(x)\n",
    "print(x<5)\n",
    "print(x[x<5])#will print the values in x for which the condition x< 5 is true\n"
   ]
  },
  {
   "cell_type": "code",
   "execution_count": 46,
   "id": "b193eed0",
   "metadata": {},
   "outputs": [
    {
     "name": "stdout",
     "output_type": "stream",
     "text": [
      "Median precipitation on rainy days in 2014(inches): 0.19488188976377951\n",
      "Median precipitation on summer days in 2014(inches): 0.0\n",
      "Maximum precipitation on summer days in 2014(inches): 0.8503937007874016\n",
      "Median precipitation on non-summer rainy days in 2014(inches): 0.20078740157480315\n",
      "[0 1 0 0 0 1]\n"
     ]
    }
   ],
   "source": [
    "#constructing a boolean mask of all rainy days\n",
    "rainy=inches>0 #an array made up of the boolean(element in inches >0) \n",
    "\n",
    "#constructing a mask of all summer days\n",
    "days=np.arange(365)\n",
    "summer=(days>172)&(days<262)\n",
    "\n",
    "print(\"Median precipitation on rainy days in 2014(inches):\",np.median(inches[rainy]))\n",
    "print(\"Median precipitation on summer days in 2014(inches):\",np.median(inches[summer]))\n",
    "print(\"Maximum precipitation on summer days in 2014(inches):\", inches[summer].max())\n",
    "print(\"Median precipitation on non-summer rainy days in 2014(inches):\",np.median(inches[(~summer)&(rainy)]))\n",
    "\n",
    "A=np.array([1,0,1,0,1,0])\n",
    "B=np.array([1,1,1,0,1,1])\n",
    "print(A^B)\n"
   ]
  },
  {
   "cell_type": "markdown",
   "id": "7d56bb89",
   "metadata": {},
   "source": [
    "# Fancy Indexing"
   ]
  },
  {
   "cell_type": "code",
   "execution_count": 57,
   "id": "2843df89",
   "metadata": {},
   "outputs": [
    {
     "name": "stdout",
     "output_type": "stream",
     "text": [
      "[20.         21.44444444 22.88888889 24.33333333 25.77777778 27.22222222\n",
      " 28.66666667 30.11111111 31.55555556 33.        ]\n",
      "[21.44444444 24.33333333 27.22222222 30.11111111]\n",
      "[[11 10]\n",
      " [13 12]]\n",
      "[[ 0  1  2  3  4  5  6]\n",
      " [ 7  8  9 10 11 12 13]\n",
      " [14 15 16 17 18 19 20]]\n",
      "[ 3 11 19]\n",
      "[[ 3  4  5]\n",
      " [10 11 12]\n",
      " [17 18 19]]\n"
     ]
    }
   ],
   "source": [
    "#It is similar to simple indexing but arrays of indices are passed instead of scalars\n",
    "c=np.linspace(20,33,10)\n",
    "ind=[1,3,5,7]\n",
    "print(c)\n",
    "print(c[ind]) #will print the values of c[1],c[3],c[5],c[7] in an array\n",
    "#when using fancy indexing, the results match the shape of the indexing array rather than the shape of the array\n",
    "\n",
    "b=np.arange(10,20)\n",
    "d=np.array([[1,0],\n",
    "            [3,2]])\n",
    "print(b[d]) #the results will be printed in a format similar to that of d\n",
    "\n",
    "#Fancy indexing in multiple dimensions\n",
    "\n",
    "P=np.arange(21).reshape(3,7)\n",
    "print(P)\n",
    "row=np.array([0,1,2])\n",
    "column=np.array([3,4,5])\n",
    "print(P[row, column]) #will print elements P[0,3] P[1,4] P[2,5]\n",
    "print(P[row[:,np.newaxis], column]) # for i in row, will print P[i,3] P[i,4] P[i,5]\n"
   ]
  },
  {
   "cell_type": "code",
   "execution_count": 67,
   "id": "a9d462c1",
   "metadata": {},
   "outputs": [
    {
     "name": "stdout",
     "output_type": "stream",
     "text": [
      "[[ 0  1  2  3  4  5  6]\n",
      " [ 7  8  9 10 11 12 13]\n",
      " [14 15 16 17 18 19 20]]\n",
      "[[ 9  7  8]\n",
      " [16 14 15]]\n",
      "[[ 0  2  4  6]\n",
      " [ 7  9 11 13]\n",
      " [14 16 18 20]]\n"
     ]
    }
   ],
   "source": [
    "#combined indexing\n",
    "print(P)\n",
    "print(P[1:,[2,0,1]]) #Will print P[i,2] P[i,0] and P[i,1] for i in range(1, number of rows)\n",
    "\n",
    "#Combining fancy indexing with masking\n",
    "mask=np.array([1,0,1,0,1,0,1], dtype='bool_')\n",
    "print(P[row[:,np.newaxis],mask])\n",
    "#mask will be evaluated in boolean then the result will be P[i,k] where i is the row and k represents the index at which\n",
    "#mask evaluates to True eg P[0,0], P[0,3]...P[1,0],P[1,3]...\n"
   ]
  },
  {
   "cell_type": "code",
   "execution_count": 76,
   "id": "2e03825f",
   "metadata": {},
   "outputs": [
    {
     "name": "stdout",
     "output_type": "stream",
     "text": [
      "[[-4.05992582e-01 -1.12980900e+00]\n",
      " [-1.18122448e+00 -1.20321251e+00]\n",
      " [ 3.05929845e-01  4.85151964e-01]\n",
      " [-1.75268695e+00 -3.40069525e+00]\n",
      " [ 2.26109036e-01  1.13313826e+00]\n",
      " [ 6.06369182e-01  9.59802450e-01]\n",
      " [ 5.08636661e-01 -8.42962089e-01]\n",
      " [ 1.80879440e+00  3.75820034e+00]\n",
      " [ 8.15476694e-01  2.30887376e+00]\n",
      " [ 1.37937009e+00  1.80142746e+00]\n",
      " [-1.26768205e+00 -3.30483370e+00]\n",
      " [ 4.82839600e-01 -3.76458413e-01]\n",
      " [ 4.60495820e-01  1.23179700e+00]\n",
      " [ 9.19606001e-01  2.62677788e+00]\n",
      " [ 6.66544157e-01  1.29345291e+00]\n",
      " [-1.52931750e-01  1.63568156e+00]\n",
      " [ 4.17238258e-01 -1.37555797e-01]\n",
      " [-2.92735771e-01 -2.02815831e+00]\n",
      " [ 5.56968489e-01 -7.76490778e-01]\n",
      " [ 1.15174837e+00  2.99364761e+00]\n",
      " [-7.47833961e-01 -1.61994320e+00]\n",
      " [ 2.22072477e-01  2.10218094e-01]\n",
      " [ 1.64144866e+00  3.18365385e+00]\n",
      " [ 2.10315704e-02  1.19499555e+00]\n",
      " [ 3.57224353e-01 -1.04588503e+00]\n",
      " [-1.52049937e-01 -7.83891078e-01]\n",
      " [ 3.91315999e-01  1.60679404e+00]\n",
      " [-1.30890483e+00 -2.15196545e+00]\n",
      " [ 8.93666346e-01  1.82281235e+00]\n",
      " [-6.79372462e-01 -5.84227775e-01]\n",
      " [ 5.13747885e-01  1.03934128e+00]\n",
      " [ 1.47988870e+00  2.27800264e+00]\n",
      " [-1.26968657e+00 -1.59731090e+00]\n",
      " [-3.17506736e-01  3.19687112e-01]\n",
      " [-8.72314798e-02 -9.08868012e-01]\n",
      " [-9.22467115e-01 -5.62273838e-01]\n",
      " [-5.65664260e-01  3.27923760e-01]\n",
      " [ 2.10580041e+00  5.97347277e+00]\n",
      " [ 3.40041545e-02 -2.41549933e-01]\n",
      " [ 6.75833791e-01 -5.19721987e-01]\n",
      " [ 6.62892964e-02  5.46572381e-01]\n",
      " [-1.16706263e+00 -3.37851008e+00]\n",
      " [ 9.38964800e-01  1.72376364e+00]\n",
      " [-9.71528884e-01 -1.98964057e+00]\n",
      " [ 2.93015666e-01  1.26295906e+00]\n",
      " [-4.60372351e-01 -6.29833900e-02]\n",
      " [ 7.74003359e-01  1.51395046e+00]\n",
      " [ 9.22323621e-01  6.42589030e-01]\n",
      " [-3.73480991e-01 -6.19098683e-01]\n",
      " [ 8.50483915e-02 -4.85903033e-02]\n",
      " [ 1.46860606e+00  3.09022544e+00]\n",
      " [ 6.23645146e-01  6.37233912e-01]\n",
      " [-5.61500084e-03  4.23785685e-01]\n",
      " [-1.80941659e+00 -4.17935640e+00]\n",
      " [-2.09456316e-01 -5.86251957e-01]\n",
      " [ 1.78285987e+00  4.27550608e+00]\n",
      " [-9.98287405e-01  2.56115059e-01]\n",
      " [ 6.23211862e-02  4.76849144e-01]\n",
      " [ 4.79303216e-01 -1.07827667e-01]\n",
      " [-1.34358292e+00 -2.42980966e+00]\n",
      " [-3.82810713e-01 -1.90850070e+00]\n",
      " [-7.59547776e-01 -3.35106320e+00]\n",
      " [-1.38043633e+00 -9.61736037e-01]\n",
      " [ 1.13184900e+00  2.11956895e+00]\n",
      " [ 1.00605935e-01 -3.02073909e-01]\n",
      " [ 1.40638829e+00  3.46953372e+00]\n",
      " [ 8.00204682e-01  2.44447775e+00]\n",
      " [ 2.56303014e-01  2.29640712e+00]\n",
      " [ 8.46879292e-01  1.69595060e+00]\n",
      " [-2.80560525e-01 -2.00961096e+00]\n",
      " [-7.10367454e-01 -3.00137619e-01]\n",
      " [ 1.41446454e+00  3.61466573e+00]\n",
      " [-5.39291055e-01 -4.55724799e-01]\n",
      " [ 1.64811031e+00  2.54963833e+00]\n",
      " [-5.95862244e-01 -1.11708482e+00]\n",
      " [-3.64005207e-01 -5.03793469e-01]\n",
      " [ 5.39381280e-01  1.55357119e+00]\n",
      " [ 2.60679294e-03 -7.66915048e-01]\n",
      " [-1.90507889e+00 -4.08639424e+00]\n",
      " [ 8.49368730e-01  2.76120601e+00]\n",
      " [ 5.99284208e-01  2.29873430e+00]\n",
      " [-7.56341215e-01 -2.71426936e+00]\n",
      " [-1.04800791e+00 -2.08332405e+00]\n",
      " [-1.48535581e+00 -1.53289220e+00]\n",
      " [ 5.15151400e-01  4.27847352e-01]\n",
      " [ 1.13400126e+00  1.85469452e+00]\n",
      " [-5.93205174e-02  2.26047839e-01]\n",
      " [-5.72178291e-01 -4.86023894e-01]\n",
      " [-5.68255591e-01  2.01403592e-01]\n",
      " [-7.96452642e-01  1.02148312e+00]\n",
      " [-2.50021261e-01 -1.53138537e+00]\n",
      " [ 8.04741461e-01  2.46504213e+00]\n",
      " [-6.67834661e-02  6.11599016e-01]\n",
      " [-4.09344137e-01 -1.06707361e+00]\n",
      " [ 1.36204232e+00  1.64860222e+00]\n",
      " [ 8.47963951e-02  1.13167598e+00]\n",
      " [ 2.78926763e-01 -6.74989163e-01]\n",
      " [-3.07452890e-01 -3.25192411e-01]\n",
      " [ 7.57749744e-01  1.99576056e+00]\n",
      " [ 3.83617953e-01 -3.11006470e-01]]\n"
     ]
    },
    {
     "data": {
      "text/plain": [
       "(100, 2)"
      ]
     },
     "execution_count": 76,
     "metadata": {},
     "output_type": "execute_result"
    }
   ],
   "source": [
    "rand=np.random.RandomState(42)\n",
    "mean=[0,0]\n",
    "cov=[[1,2],\n",
    "    [2,5]]\n",
    "X=rand.multivariate_normal(mean,cov,100)\n",
    "print(X)\n",
    "X.shape\n"
   ]
  },
  {
   "cell_type": "code",
   "execution_count": 77,
   "id": "e0bd939a",
   "metadata": {},
   "outputs": [
    {
     "data": {
      "image/png": "[encoded data removed]",
      "text/plain": [
       "<Figure size 432x288 with 1 Axes>"
      ]
     },
     "metadata": {},
     "output_type": "display_data"
    }
   ],
   "source": [
    "%matplotlib inline\n",
    "import matplotlib.pyplot as plt\n",
    "import seaborn; seaborn.set() #for plot styling\n",
    "plt.scatter(X[:,0],X[:,1]);\n"
   ]
  },
  {
   "cell_type": "code",
   "execution_count": 82,
   "id": "6ec2a569",
   "metadata": {},
   "outputs": [
    {
     "data": {
      "text/plain": [
       "array([89, 72, 15, 52, 97,  6, 51, 96, 56, 73, 58,  5, 78, 88, 45, 37, 86,\n",
       "       59, 65, 14])"
      ]
     },
     "execution_count": 82,
     "metadata": {},
     "output_type": "execute_result"
    }
   ],
   "source": [
    "#Using fancy indexing to select 20 random points\n",
    "\n",
    "indices=np.random.choice(X.shape[0],20, replace=False)\n",
    "#random.choice allows you to select a sample of elements either from an array or a specified integer(in which case it is...\n",
    "#treated like np.arange(int)), the size dictates the number of elements; for shape(m,n,k), size =m*n*k, replace is a boolean\n",
    "#that indicates whether an element should be repicked or not\n",
    "\n",
    "indices"
   ]
  },
  {
   "cell_type": "code",
   "execution_count": 84,
   "id": "47b516e2",
   "metadata": {},
   "outputs": [
    {
     "data": {
      "text/plain": [
       "(20, 2)"
      ]
     },
     "execution_count": 84,
     "metadata": {},
     "output_type": "execute_result"
    }
   ],
   "source": [
    "selection=X[indices] #fancy indexing\n",
    "selection.shape"
   ]
  },
  {
   "cell_type": "code",
   "execution_count": 94,
   "id": "4e9c3215",
   "metadata": {},
   "outputs": [
    {
     "data": {
      "image/png": "[encoded data removed]",
      "text/plain": [
       "<Figure size 432x288 with 1 Axes>"
      ]
     },
     "metadata": {},
     "output_type": "display_data"
    }
   ],
   "source": [
    "#seeing which points were selected\n",
    "plt.scatter(X[:,0],X[:,1], alpha=0.4)\n",
    "plt.scatter(selection[:,0],selection[:,1],facecolor='none',s=200, edgecolors='blue');"
   ]
  },
  {
   "cell_type": "code",
   "execution_count": 131,
   "id": "0093d3fc",
   "metadata": {},
   "outputs": [
    {
     "name": "stdout",
     "output_type": "stream",
     "text": [
      "[ 0 99 99  3  4  5 99 99  8  9]\n",
      "[ 0 89 89  3  4  5 89 89  8  9]\n",
      "[6. 0. 0. 0. 0. 0. 0. 0. 0. 0.]\n",
      "[ 0 89 90  4  5  5 89 89  8  9]\n",
      "[ 0 89 91  6  8  5 89 89  8  9]\n"
     ]
    },
    {
     "data": {
      "text/plain": [
       "array([   48594, 22812480], dtype=int32)"
      ]
     },
     "execution_count": 131,
     "metadata": {},
     "output_type": "execute_result"
    }
   ],
   "source": [
    "#modifying values using fancy indexing\n",
    "x=np.arange(10)\n",
    "i=np.array([2,1,7,6])\n",
    "x[i]=99 #will set all values at the specified indices to 99\n",
    "print(x)\n",
    "x[i]-=10#will reduce values at the specified indices by 10\n",
    "print(x)\n",
    "\n",
    "y=np.zeros(10)\n",
    "y[[0,0]]=[4,6]\n",
    "print(y) #y[0] will first be set to 4, then y[0] will then be set to 6\n",
    "\n",
    "k=[2,3,3,4,4,4]\n",
    "x[k]+=1 #the value at 3 will only be incremented once, so will the value at 4\n",
    "print(x)\n",
    "#in order to increase the values multiple times as intended, use at\n",
    "np.add.at(x,k,1) #add 1 at x[k]; at does an in place application of the given operator at the specified indices with the\n",
    "#specified value\n",
    "print(x)\n",
    "\n",
    "np.multiply.reduceat(x,[1,4])\n",
    "\n"
   ]
  },
  {
   "cell_type": "code",
   "execution_count": 125,
   "id": "d1b37cc3",
   "metadata": {},
   "outputs": [
    {
     "data": {
      "text/plain": [
       "array([ 6,  4, 10,  5, 14,  6, 18,  7], dtype=int32)"
      ]
     },
     "execution_count": 125,
     "metadata": {},
     "output_type": "execute_result"
    }
   ],
   "source": [
    "print(np.add.reduceat(np.arange(8),[0,4,1,5,2,6,3,7])) #check numpy documentation for ufunc.reduceat\n",
    "#takes the form np.operation.reduceat(array,indices_array,axis,dtype...)\n",
    "#basically does reduce for values in the indices array in the form reduce(array[indices[i]:indices[i+1]] for i\n",
    "#in range len(indices)-1).In the cases where indices[i]>=indices[i+1],the computation is not done and instead the \n",
    "#next value of the array (the previous indices[i+1] location is appended to the output array)\n",
    "\n",
    "\n",
    "z=np.linspace(0,8,9).reshape(3,3)\n",
    "print(z)\n",
    "\n",
    "np.add.reduceat\n"
   ]
  },
  {
   "cell_type": "code",
   "execution_count": 134,
   "id": "6f9e0285",
   "metadata": {},
   "outputs": [
    {
     "name": "stdout",
     "output_type": "stream",
     "text": [
      "[ 2.43835101e-01 -7.47318182e-01 -1.56117699e+00 -4.64253122e-01\n",
      " -3.52062344e-01 -1.28149188e+00  2.89299240e-01  9.80028505e-01\n",
      "  4.77924222e-01  4.50818133e-01  7.52443450e-01 -5.10571794e-01\n",
      " -7.05752137e-01 -4.24317252e-01 -2.32162126e-01  1.81514048e+00\n",
      " -2.09474937e+00  1.03595611e+00 -1.43414066e+00 -2.78228697e-01\n",
      "  5.95144896e-02 -1.30831214e+00 -1.28630204e-03  1.26104693e+00\n",
      " -1.86323999e-01  1.42992772e+00 -7.91101977e-01 -2.97739220e-01\n",
      "  9.61949597e-01 -1.07044067e+00 -1.20546821e+00  6.44030710e-01\n",
      "  5.69221615e-02  1.41854611e+00 -1.14294482e+00  2.15819548e-01\n",
      "  9.25606402e-01  4.07204403e-01  5.57686250e-01 -5.45324295e-01\n",
      "  2.06687026e-01 -6.45055306e-01 -5.28596200e-01  8.38851422e-01\n",
      " -1.30025207e+00 -9.69472162e-02  2.11505971e-01  2.18984854e-01\n",
      " -1.46397689e+00  1.12806649e+00  1.40632179e+00 -1.36289681e-01\n",
      " -2.58230073e-01  6.42940638e-02 -1.33649934e+00  5.37436848e-01\n",
      "  4.85772047e-01 -1.17156811e-03  5.55231757e-01 -6.13463731e-01\n",
      "  1.35381198e+00  1.78491689e+00 -1.75341666e+00 -3.15263820e-01\n",
      "  8.26594639e-01 -2.15913761e-01 -5.97824971e-01  1.95161691e-01\n",
      "  1.59318139e+00 -1.90010195e-03 -8.51738917e-02  1.39260861e+00\n",
      " -1.33586838e-01  6.75120250e-01 -1.38980412e-01  3.65869939e-01\n",
      " -6.79160425e-01  2.02035157e+00  7.30774946e-01  1.86337899e+00\n",
      " -2.07849774e-01 -5.01437941e-01 -5.72177607e-02 -7.94459492e-01\n",
      " -6.64088135e-01 -8.14092968e-01 -7.61259366e-02 -6.38463029e-02\n",
      "  2.09211069e-01  3.75887404e-01  5.95337909e-01  4.52906193e-01\n",
      " -1.92266419e-01  1.23565312e+00 -2.66974027e-01 -1.28551928e+00\n",
      "  1.48708478e+00  1.14964769e+00 -3.18676040e-01  1.31766803e+00]\n",
      "[-5.         -4.47368421 -3.94736842 -3.42105263 -2.89473684 -2.36842105\n",
      " -1.84210526 -1.31578947 -0.78947368 -0.26315789  0.26315789  0.78947368\n",
      "  1.31578947  1.84210526  2.36842105  2.89473684  3.42105263  3.94736842\n",
      "  4.47368421  5.        ]\n",
      "[10  9  7  9  9  8 11 12 11 11 11  9  9  9 10 13  6 12  7  9 10  8 10 12\n",
      " 10 13  8  9 12  8  8 11 10 13  8 10 12 11 11  9 10  9  9 12  8 10 10 10\n",
      "  7 12 13 10 10 10  7 11 11 10 11  9 13 13  7  9 12 10  9 10 13 10 10 13\n",
      " 10 11 10 11  9 14 11 14 10  9 10  8  9  8 10 10 10 11 11 11 10 12  9  8\n",
      " 13 12  9 13]\n"
     ]
    }
   ],
   "source": [
    "np.random.seed(34)\n",
    "x=np.random.randn(100)#sample(s) from the standard normal distribution\n",
    "\n",
    "bins=np.linspace(-5,5,20)\n",
    "counts=np.zeros_like(bins)\n",
    "\n",
    "\n",
    "\n",
    "i=np.searchsorted(bins,x)\n",
    "#searchsorted takes 2 arrays a,v and returns indices of where corresponding elements of v can be inserted in a without\n",
    "#affecting the sorting order of elements in a\n",
    "\n"
   ]
  },
  {
   "cell_type": "markdown",
   "id": "75554746",
   "metadata": {},
   "source": [
    "# Sorting in NumPy"
   ]
  },
  {
   "cell_type": "code",
   "execution_count": 141,
   "id": "3d76236e",
   "metadata": {},
   "outputs": [
    {
     "name": "stdout",
     "output_type": "stream",
     "text": [
      "[-234    0    1    2   26   46]\n",
      "[   1   46   26    2    0 -234]\n",
      "[-234    0    1    2   26   46]\n"
     ]
    }
   ],
   "source": [
    "#sorting without modifying the array\n",
    "x=np.array([1,46,26,2,0,-234])\n",
    "print(np.sort(x))#output will be a sorted version of x but x itself will remain unsorted\n",
    "print(x)\n",
    "\n",
    "print(np.argsort(x))#returns an array containing the index of each element(in sorted order) of the original array\n",
    "#i.e. the smallest element is at position k of the original, the second smallest at position w of the original...\n",
    "\n",
    "x.sort()#sort itself is now modified\n",
    "print(x)"
   ]
  },
  {
   "cell_type": "code",
   "execution_count": 144,
   "id": "a48616b0",
   "metadata": {},
   "outputs": [
    {
     "name": "stdout",
     "output_type": "stream",
     "text": [
      "[[74 56 91 56 51 85]\n",
      " [ 8 28  7 85 55 83]\n",
      " [87 58 35 60 81 73]\n",
      " [26 29 62 85 76 75]]\n",
      "[[ 8 28  7 56 51 73]\n",
      " [26 29 35 60 55 75]\n",
      " [74 56 62 85 76 83]\n",
      " [87 58 91 85 81 85]]\n",
      "[[51 56 56 74 85 91]\n",
      " [ 7  8 28 55 83 85]\n",
      " [35 58 60 73 81 87]\n",
      " [26 29 62 75 76 85]]\n"
     ]
    }
   ],
   "source": [
    "#sorting can also be done along columns or rows\n",
    "y=np.random.randint(7,100,(4,6))\n",
    "print(y)\n",
    "print(np.sort(y,axis=0))#columns\n",
    "print(np.sort(y,axis=1))#rows\n"
   ]
  },
  {
   "cell_type": "code",
   "execution_count": 148,
   "id": "d9544d02",
   "metadata": {},
   "outputs": [
    {
     "name": "stdout",
     "output_type": "stream",
     "text": [
      "[0.03617983 0.08891628 0.31862832 0.4459908  0.53481986 0.62944497]\n",
      "[[74 56 91 56 51 85]\n",
      " [ 8 28  7 85 55 83]\n",
      " [87 58 35 60 81 73]\n",
      " [26 29 62 85 76 75]]\n",
      "[[51 56 56 91 74 85]\n",
      " [ 7  8 28 85 55 83]\n",
      " [35 58 60 87 81 73]\n",
      " [26 29 62 85 76 75]]\n"
     ]
    }
   ],
   "source": [
    "#Partitioning\n",
    "z=np.random.random(6)\n",
    "print(np.partition(z,3))#for np.partition(A,k) the k smallest elements in A are placed in the beginning and the rest follow\n",
    "#however no sorting happens\n",
    "\n",
    "print(y)\n",
    "print(np.partition(y,2,axis=1)) #the first 2 elements in each column will be the smallest 2\n"
   ]
  },
  {
   "cell_type": "code",
   "execution_count": 184,
   "id": "f867df7e",
   "metadata": {},
   "outputs": [
    {
     "name": "stdout",
     "output_type": "stream",
     "text": [
      "[[0.03856168 0.78010046]\n",
      " [0.09270376 0.63289269]\n",
      " [0.01389085 0.93615854]\n",
      " [0.42657438 0.25308645]\n",
      " [0.18996531 0.41482463]\n",
      " [0.01342061 0.64847278]\n",
      " [0.86936875 0.6090357 ]\n",
      " [0.80799282 0.82651133]\n",
      " [0.27168333 0.83647644]\n",
      " [0.28254136 0.1383086 ]]\n",
      "[0.03856168 0.09270376 0.01389085 0.42657438 0.18996531 0.01342061\n",
      " 0.86936875 0.80799282 0.27168333 0.28254136]\n",
      "(10,)\n",
      "(10, 10)\n"
     ]
    },
    {
     "data": {
      "image/png": "[encoded data removed]",
      "text/plain": [
       "<Figure size 432x288 with 1 Axes>"
      ]
     },
     "metadata": {},
     "output_type": "display_data"
    }
   ],
   "source": [
    "#np.argpartition, k-nearest neighbours\n",
    "\n",
    "rand=np.random.RandomState(34)\n",
    "X=rand.rand(10,2) #An array to represent 10 points on a 2D cartesian plane\n",
    "print(X)\n",
    "print(X[:,0])\n",
    "print(X[:,0].shape)\n",
    "print((X[:,0]-X[:,0][:,np.newaxis]).shape)\n",
    "\n",
    "\n",
    "#scatter plotting points in X\n",
    "%matplotlib inline\n",
    "import matplotlib.pyplot as plt\n",
    "import seaborn; seaborn.set()#plot styling\n",
    "plt.scatter(X[:,0],X[:,1],s=100);\n",
    "\n",
    "\n",
    "\n"
   ]
  },
  {
   "cell_type": "code",
   "execution_count": 173,
   "id": "95b025f5",
   "metadata": {},
   "outputs": [
    {
     "name": "stdout",
     "output_type": "stream",
     "text": [
      "[[ 0  1  4  9 16 25 36 49]\n",
      " [ 1  0  1  4  9 16 25 36]\n",
      " [ 4  1  0  1  4  9 16 25]\n",
      " [ 9  4  1  0  1  4  9 16]\n",
      " [16  9  4  1  0  1  4  9]\n",
      " [25 16  9  4  1  0  1  4]\n",
      " [36 25 16  9  4  1  0  1]\n",
      " [49 36 25 16  9  4  1  0]]\n",
      "[[0.03856168]\n",
      " [0.09270376]\n",
      " [0.01389085]\n",
      " [0.42657438]\n",
      " [0.18996531]\n",
      " [0.01342061]\n",
      " [0.86936875]\n",
      " [0.80799282]\n",
      " [0.27168333]\n",
      " [0.28254136]]\n"
     ]
    },
    {
     "data": {
      "text/plain": [
       "array([[0.00000000e+00, 2.93136423e-03, 6.08649979e-04, 1.50553856e-01,\n",
       "        2.29230578e-02, 6.32073458e-04, 6.90240379e-01, 5.92024276e-01,\n",
       "        5.43457050e-02, 5.95260838e-02],\n",
       "       [2.93136423e-03, 0.00000000e+00, 6.21147431e-03, 1.11469595e-01,\n",
       "        9.45980930e-03, 6.28581718e-03, 6.03208508e-01, 5.11638444e-01,\n",
       "        3.20336895e-02, 3.60383161e-02],\n",
       "       [6.08649979e-04, 6.21147431e-03, 0.00000000e+00, 1.70307699e-01,\n",
       "        3.10022148e-02, 2.21124323e-07, 7.31842433e-01, 6.30597940e-01,\n",
       "        6.64569655e-02, 7.21730974e-02],\n",
       "       [1.50553856e-01, 1.11469595e-01, 1.70307699e-01, 0.00000000e+00,\n",
       "        5.59838546e-02, 1.70696039e-01, 1.96066849e-01, 1.45480024e-01,\n",
       "        2.39912367e-02, 2.07455114e-02],\n",
       "       [2.29230578e-02, 9.45980930e-03, 3.10022148e-02, 5.59838546e-02,\n",
       "        0.00000000e+00, 3.11680299e-02, 4.61589034e-01, 3.81958006e-01,\n",
       "        6.67783601e-03, 8.57032571e-03],\n",
       "       [6.32073458e-04, 6.28581718e-03, 2.21124323e-07, 1.70696039e-01,\n",
       "        3.11680299e-02, 0.00000000e+00, 7.32647212e-01, 6.31344996e-01,\n",
       "        6.66996346e-02, 7.24259782e-02],\n",
       "       [6.90240379e-01, 6.03208508e-01, 7.31842433e-01, 1.96066849e-01,\n",
       "        4.61589034e-01, 7.32647212e-01, 0.00000000e+00, 3.76700442e-03,\n",
       "        3.57227852e-01, 3.44366381e-01],\n",
       "       [5.92024276e-01, 5.11638444e-01, 6.30597940e-01, 1.45480024e-01,\n",
       "        3.81958006e-01, 6.31344996e-01, 3.76700442e-03, 0.00000000e+00,\n",
       "        2.87627864e-01, 2.76099236e-01],\n",
       "       [5.43457050e-02, 3.20336895e-02, 6.64569655e-02, 2.39912367e-02,\n",
       "        6.67783601e-03, 6.66996346e-02, 3.57227852e-01, 2.87627864e-01,\n",
       "        0.00000000e+00, 1.17896733e-04],\n",
       "       [5.95260838e-02, 3.60383161e-02, 7.21730974e-02, 2.07455114e-02,\n",
       "        8.57032571e-03, 7.24259782e-02, 3.44366381e-01, 2.76099236e-01,\n",
       "        1.17896733e-04, 0.00000000e+00]])"
      ]
     },
     "execution_count": 173,
     "metadata": {},
     "output_type": "execute_result"
    }
   ],
   "source": [
    "k=np.arange(1,9)\n",
    "print((k-k[:,np.newaxis])**2)\n",
    "print(X[:,0][:,np.newaxis])\n",
    "(X[:,0]-X[:,0][:,np.newaxis])**2"
   ]
  },
  {
   "cell_type": "code",
   "execution_count": 190,
   "id": "cfad426b",
   "metadata": {},
   "outputs": [
    {
     "data": {
      "text/plain": [
       "array([[0.        , 0.02460149, 0.02496277, 0.42829762, 0.15634949,\n",
       "        0.01795792, 0.71950353, 0.59417824, 0.05752396, 0.47142287],\n",
       "       [0.02460149, 0.        , 0.09818165, 0.25572237, 0.05701349,\n",
       "        0.00652856, 0.60377766, 0.54912662, 0.07348003, 0.28065173],\n",
       "       [0.02496277, 0.09818165, 0.        , 0.63689517, 0.30279125,\n",
       "        0.08276331, 0.83885178, 0.64262045, 0.07639349, 0.70873761],\n",
       "       [0.42829762, 0.25572237, 0.63689517, 0.        , 0.08214309,\n",
       "        0.32702639, 0.32276672, 0.47429612, 0.36433512, 0.03391947],\n",
       "       [0.15634949, 0.05701349, 0.30279125, 0.08214309, 0.        ,\n",
       "        0.08575949, 0.49930697, 0.55144394, 0.18446808, 0.08503144],\n",
       "       [0.01795792, 0.00652856, 0.08276331, 0.32702639, 0.08575949,\n",
       "        0.        , 0.7342025 , 0.66304272, 0.10204501, 0.33269347],\n",
       "       [0.71950353, 0.60377766, 0.83885178, 0.32276672, 0.49930697,\n",
       "        0.7342025 , 0.        , 0.05106265, 0.40895714, 0.56595038],\n",
       "       [0.59417824, 0.54912662, 0.64262045, 0.47429612, 0.55144394,\n",
       "        0.66304272, 0.05106265, 0.        , 0.28772717, 0.74972223],\n",
       "       [0.05752396, 0.07348003, 0.07639349, 0.36433512, 0.18446808,\n",
       "        0.10204501, 0.40895714, 0.28772717, 0.        , 0.48755623],\n",
       "       [0.47142287, 0.28065173, 0.70873761, 0.03391947, 0.08503144,\n",
       "        0.33269347, 0.56595038, 0.74972223, 0.48755623, 0.        ]])"
      ]
     },
     "execution_count": 190,
     "metadata": {},
     "output_type": "execute_result"
    }
   ],
   "source": [
    "dist_sq=(X[:,0]-X[:,0][:,np.newaxis])**2 + (X[:,1]-X[:,1][:,np.newaxis])**2\n",
    "dist_sq"
   ]
  },
  {
   "cell_type": "code",
   "execution_count": 196,
   "id": "de1bfdcc",
   "metadata": {},
   "outputs": [
    {
     "name": "stdout",
     "output_type": "stream",
     "text": [
      "[[0 5 1 2 8 4 3 9 7 6]\n",
      " [1 5 0 4 8 2 3 9 7 6]\n",
      " [2 0 8 5 1 4 3 7 9 6]\n",
      " [3 9 4 1 6 5 8 0 7 2]\n",
      " [4 1 3 9 5 0 8 2 6 7]\n",
      " [5 1 0 2 4 8 3 9 7 6]\n",
      " [6 7 3 8 4 9 1 0 5 2]\n",
      " [7 6 8 3 1 4 0 2 5 9]\n",
      " [8 0 1 2 5 4 7 3 6 9]\n",
      " [9 3 4 1 5 0 8 6 2 7]]\n",
      "[[0 5 1 2 8 4 6 7 3 9]\n",
      " [1 0 5 4 3 2 6 7 8 9]\n",
      " [8 2 0 5 1 4 6 7 3 9]\n",
      " [3 9 4 1 6 5 8 0 7 2]\n",
      " [3 4 1 9 2 5 6 7 8 0]\n",
      " [5 1 0 2 4 3 6 7 8 9]\n",
      " [6 7 3 8 4 9 5 1 2 0]\n",
      " [7 6 8 3 1 4 0 5 2 9]\n",
      " [8 1 0 2 5 4 6 7 3 9]\n",
      " [3 9 4 1 5 0 8 6 7 2]]\n",
      "[8 2 0]\n"
     ]
    }
   ],
   "source": [
    "nearest=np.argsort(dist_sq,axis=1)\n",
    "print(nearest) #we can expect the first column to contain 0-9 since the smallest element in each row of dist_sq will be\n",
    "#along the diagonal\n",
    "\n",
    "nearest_k=np.argpartition(dist_sq,3,axis=1) #the indices of the three smallest values will be at the far left in arbitrary\n",
    "#order,while the rest of the indices will also be arranged in arbitrary order\n",
    "print(nearest_k)\n",
    "\n"
   ]
  },
  {
   "cell_type": "code",
   "execution_count": 199,
   "id": "73a49a29",
   "metadata": {},
   "outputs": [
    {
     "data": {
      "image/png": "[encoded data removed]",
      "text/plain": [
       "<Figure size 432x288 with 1 Axes>"
      ]
     },
     "metadata": {},
     "output_type": "display_data"
    }
   ],
   "source": [
    "#drawing the lines from each point in X to its 2 nearest neighbours\n",
    "plt.scatter(X[:,0],X[:,1],s=100)\n",
    "k=2\n",
    "nearest_partition=np.argpartition(dist_sq,k+1,axis=1)\n",
    "\n",
    "for i in range(X.shape[0]):\n",
    "    for j in nearest_partition[i,:k+1]:\n",
    "        #plot a line from X[i] to X[j]\n",
    "        plt.plot(*zip (X[i], X[j]),color='black')\n",
    "        "
   ]
  },
  {
   "cell_type": "markdown",
   "id": "444cf9cb",
   "metadata": {},
   "source": [
    "# Structured Arrays"
   ]
  },
  {
   "cell_type": "code",
   "execution_count": 211,
   "id": "7b8a2efc",
   "metadata": {},
   "outputs": [
    {
     "name": "stdout",
     "output_type": "stream",
     "text": [
      "[('name', '<U10'), ('age', '<i4'), ('weight', '<f8')]\n",
      "[('Alice', 25, 55. ) ('Bob', 45, 85.5) ('Cathy', 37, 68. )\n",
      " ('Doug', 19, 61.5)]\n"
     ]
    }
   ],
   "source": [
    "#Structured arrays in NumPy allow a user to form an array of heterogenous data\n",
    "name=['Alice','Bob','Cathy','Doug']\n",
    "age=[25,45,37,19]\n",
    "weight=[55.0,85.5,68.0,61.5]\n",
    "\n",
    "#Creating a single structure to store the data above\n",
    "data=np.zeros(4,dtype={'names':('name','age','weight'),'formats':('U10','i4','f8')})\n",
    "print(data.dtype)\n",
    "\n",
    "data['name']=name\n",
    "data['age']=age\n",
    "data['weight']=weight\n",
    "print(data)"
   ]
  },
  {
   "cell_type": "code",
   "execution_count": null,
   "id": "865d2aed",
   "metadata": {},
   "outputs": [],
   "source": []
  },
  {
   "cell_type": "code",
   "execution_count": null,
   "id": "299b29f8",
   "metadata": {},
   "outputs": [],
   "source": []
  }
 ],
 "metadata": {
  "kernelspec": {
   "display_name": "Python 3 (ipykernel)",
   "language": "python",
   "name": "python3"
  },
  "language_info": {
   "codemirror_mode": {
    "name": "ipython",
    "version": 3
   },
   "file_extension": ".py",
   "mimetype": "text/x-python",
   "name": "python",
   "nbconvert_exporter": "python",
   "pygments_lexer": "ipython3",
   "version": "3.9.7"
  }
 },
 "nbformat": 4,
 "nbformat_minor": 5
}
